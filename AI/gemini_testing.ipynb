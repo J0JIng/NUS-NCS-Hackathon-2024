{
 "cells": [
  {
   "cell_type": "code",
   "execution_count": 7,
   "metadata": {},
   "outputs": [
    {
     "name": "stdout",
     "output_type": "stream",
     "text": [
      "models/gemini-1.0-pro\n",
      "models/gemini-1.0-pro-001\n",
      "models/gemini-1.0-pro-latest\n",
      "models/gemini-1.0-pro-vision-latest\n",
      "models/gemini-pro\n",
      "models/gemini-pro-vision\n"
     ]
    },
    {
     "data": {
      "text/markdown": [
       "> **Increased Public Transport Needs:**\n",
       "> \n",
       "> * **Buses:** Significantly more than 50 buses will be required to accommodate an estimated 100,000 concert attendees.\n",
       "> \n",
       "> * **MRT (Mass Rapid Transit):** Additional train services and increased frequency on existing lines to handle the surge in commuters.\n",
       "> \n",
       "> * **LRT (Light Rail Transit):** If applicable, additional LRT services to ferry attendees to and from the stadium area.\n",
       "> \n",
       "> * **Special Shuttle Buses:** Dedicated shuttle buses from designated park-and-ride locations to transport attendees to the concert venue.\n",
       "> \n",
       "> **Aggregate Public Services:**\n",
       "> \n",
       "> * **Taxi Services:** Increased number of taxis available for hire, especially after the concert ends.\n",
       "> \n",
       "> * **Ride-Hailing Services (e.g., Grab, Gojek):** Coordination with ride-hailing companies to provide additional vehicles and ensure smoother operations.\n",
       "> \n",
       "> * **Public Bike-Sharing:** Encouraging the use of public bike-sharing programs for shorter distances.\n",
       "> \n",
       "> * **Designated Walking Paths:** Implementing designated walking paths with clear signage to guide attendees to and from the stadium area.\n",
       "> \n",
       "> **Public Transport Services in Singapore:**\n",
       "> \n",
       "> * *Buses (public and private)*\n",
       "> * *MRT (Mass Rapid Transit)*\n",
       "> * *LRT (Light Rail Transit)*\n",
       "> * *Taxis*\n",
       "> * *Ride-Hailing Services (e.g., Grab, Gojek)*\n",
       "> * *Public Bike-Sharing Programs*\n",
       "> * *Private Hire Vehicles (e.g., limousines)*"
      ],
      "text/plain": [
       "<IPython.core.display.Markdown object>"
      ]
     },
     "execution_count": 7,
     "metadata": {},
     "output_type": "execute_result"
    }
   ],
   "source": [
    "\n",
    "import pathlib\n",
    "import textwrap\n",
    "\n",
    "import google.generativeai as genai\n",
    "\n",
    "from IPython.display import display\n",
    "from IPython.core.display import Markdown\n",
    "\n",
    "import python_tokens\n",
    "\n",
    "\n",
    "def to_markdown(text):\n",
    "  text = text.replace('•', '  *')\n",
    "  return Markdown(textwrap.indent(text, '> ', predicate=lambda _: True))\n",
    "\n",
    "genai.configure(api_key=python_tokens.google_api_key)\n",
    "\n",
    "for m in genai.list_models():\n",
    "  if 'generateContent' in m.supported_generation_methods:\n",
    "    print(m.name)\n",
    "\n",
    "\n",
    "model = genai.GenerativeModel('gemini-1.0-pro-latest')\n",
    "\n",
    "response = model.generate_content(\"In singapore, There is a taylor swift concert soon, at a stadium of 100000 people. The concert is sold out, how much more transport do we need? Currently, we have 50 bus prepared. Some people might choose taxis, how much aggregate public services do we need to prepare? Do not use math, just aggregate based on previous data, what are some public transports we need to increase? List out some transport services in Singapore as well.\")\n",
    "\n",
    "to_markdown(response.text)\n",
    "\n"
   ]
  },
  {
   "cell_type": "code",
   "execution_count": null,
   "metadata": {},
   "outputs": [],
   "source": []
  }
 ],
 "metadata": {
  "kernelspec": {
   "display_name": "cs2109s-ay2223s1",
   "language": "python",
   "name": "python3"
  },
  "language_info": {
   "codemirror_mode": {
    "name": "ipython",
    "version": 3
   },
   "file_extension": ".py",
   "mimetype": "text/x-python",
   "name": "python",
   "nbconvert_exporter": "python",
   "pygments_lexer": "ipython3",
   "version": "3.9.9"
  }
 },
 "nbformat": 4,
 "nbformat_minor": 2
}
